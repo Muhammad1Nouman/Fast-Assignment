{
 "cells": [
  {
   "cell_type": "code",
   "execution_count": 2,
   "metadata": {},
   "outputs": [
    {
     "name": "stderr",
     "output_type": "stream",
     "text": [
      "Using TensorFlow backend.\n"
     ]
    },
    {
     "name": "stdout",
     "output_type": "stream",
     "text": [
      "['cats', 'dogs', 'dogs.zip']\n"
     ]
    }
   ],
   "source": [
    "import numpy as np # linear algebra\n",
    "import pandas as pd # data processing, CSV file I/O (e.g. pd.read_csv)\n",
    "\n",
    "from keras.preprocessing.image import ImageDataGenerator, load_img\n",
    "from keras.utils import to_categorical\n",
    "from sklearn.model_selection import train_test_split\n",
    "import matplotlib.pyplot as plt\n",
    "import random\n",
    "import os\n",
    "\n",
    "\n",
    "FAST_RUN = False\n",
    "IMAGE_WIDTH=64\n",
    "IMAGE_HEIGHT=64\n",
    "IMAGE_SIZE=(IMAGE_WIDTH, IMAGE_HEIGHT)\n",
    "IMAGE_CHANNELS=3 \n",
    "print(os.listdir(\"./CatsandDogs\"))"
   ]
  },
  {
   "cell_type": "code",
   "execution_count": 28,
   "metadata": {},
   "outputs": [],
   "source": [
    "filenames = os.listdir(\"./CatsandDogs/dogs\")\n",
    "categories = []\n",
    "i = 0\n",
    "for filename in filenames: \n",
    "    src =\"./CatsandDogs/dogs/\" + filename\n",
    "    dst = \"./CatsandDogs/dogs/\"+\"dog\"+filename \n",
    "    os.rename( src,dst) \n",
    "    i += 1"
   ]
  },
  {
   "cell_type": "code",
   "execution_count": 25,
   "metadata": {},
   "outputs": [
    {
     "name": "stdout",
     "output_type": "stream",
     "text": [
      "All the image file of dogs 0,1,2.. etc is updated to dog0,dog1 etc\n"
     ]
    }
   ],
   "source": [
    "print('All the image file of dogs 0,1,2.. etc is updated to dog0,dog1 etc')"
   ]
  },
  {
   "cell_type": "code",
   "execution_count": 30,
   "metadata": {},
   "outputs": [],
   "source": [
    "filenames = os.listdir(\"./CatsandDogs/cats\")\n",
    "categories = []\n",
    "i = 0\n",
    "for filename in filenames: \n",
    "    src =\"./CatsandDogs/cats/\" + filename\n",
    "    dst = \"./CatsandDogs/cats/\"+\"cat\"+filename \n",
    "    os.rename( src,dst) \n",
    "    i += 1"
   ]
  },
  {
   "cell_type": "code",
   "execution_count": 24,
   "metadata": {},
   "outputs": [
    {
     "name": "stdout",
     "output_type": "stream",
     "text": [
      "All the image file from cats 0,1,2.. etc is updated to cat0,cat1 etc\n"
     ]
    }
   ],
   "source": [
    "print('All the image file from cats 0,1,2.. etc is updated to cat0,cat1 etc')"
   ]
  },
  {
   "cell_type": "code",
   "execution_count": 31,
   "metadata": {},
   "outputs": [
    {
     "name": "stdout",
     "output_type": "stream",
     "text": [
      "Copying all images to one directory\n"
     ]
    }
   ],
   "source": [
    "import shutil\n",
    "#'Copying all images to one directory';\n",
    "for filename in os.listdir(\"./CatsandDogs/cats\"):\n",
    "    src=\"./CatsandDogs/cats/\" + filename\n",
    "    dst=\"./CatsandDogs/dogs/\"\n",
    "    shutil.copy(src, dst)"
   ]
  },
  {
   "cell_type": "code",
   "execution_count": null,
   "metadata": {},
   "outputs": [],
   "source": []
  }
 ],
 "metadata": {
  "kernelspec": {
   "display_name": "Python 3",
   "language": "python",
   "name": "python3"
  },
  "language_info": {
   "codemirror_mode": {
    "name": "ipython",
    "version": 3
   },
   "file_extension": ".py",
   "mimetype": "text/x-python",
   "name": "python",
   "nbconvert_exporter": "python",
   "pygments_lexer": "ipython3",
   "version": "3.7.3"
  }
 },
 "nbformat": 4,
 "nbformat_minor": 2
}
